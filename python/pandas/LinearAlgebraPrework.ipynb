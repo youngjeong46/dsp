{
 "cells": [
  {
   "cell_type": "code",
   "execution_count": 1,
   "metadata": {},
   "outputs": [],
   "source": [
    "import numpy as np\n",
    "\n",
    "A = np.array([[1,2,3],[2,7,4]])\n",
    "B = np.array([[1,-1],[0,1]])\n",
    "C = np.array([[5,-1],[9,1],[6,0]])\n",
    "D = np.array([[3,-2,-1],[1,2,3]])\n",
    "\n",
    "u = np.array([6,2,-3,5])\n",
    "v = np.array([3,5,-1,4])"
   ]
  },
  {
   "cell_type": "code",
   "execution_count": 2,
   "metadata": {},
   "outputs": [],
   "source": [
    "dimensions = {\n",
    "    'A': np.shape(A),\n",
    "    'B': np.shape(B),\n",
    "    'C': np.shape(C),\n",
    "    'D': np.shape(D),\n",
    "    'u': np.shape(u),\n",
    "    'v': np.shape(v)\n",
    "}"
   ]
  },
  {
   "cell_type": "code",
   "execution_count": 3,
   "metadata": {},
   "outputs": [
    {
     "data": {
      "text/plain": [
       "{'A': (2, 3), 'B': (2, 2), 'C': (3, 2), 'D': (2, 3), 'u': (4,), 'v': (4,)}"
      ]
     },
     "execution_count": 3,
     "metadata": {},
     "output_type": "execute_result"
    }
   ],
   "source": [
    "dimensions"
   ]
  },
  {
   "cell_type": "code",
   "execution_count": 4,
   "metadata": {},
   "outputs": [],
   "source": [
    "# Q2: vector operations\n",
    "#     assign `None` if the operation is not defined\n",
    "#     do not type the answers, make python do the work\n",
    "\n",
    "alpha = 6\n",
    "\n",
    "u_plus_v = u+v             # u+v\n",
    "u_minus_v = u-v           # u-v\n",
    "alpha_times_u = alpha*u        # alpha * u, alpha = 6\n",
    "u_dot_v = np.dot(u,v)             # u . v\n",
    "from numpy import linalg as LA\n",
    "norm_u = LA.norm(u)              # ||u|| "
   ]
  },
  {
   "cell_type": "code",
   "execution_count": 5,
   "metadata": {},
   "outputs": [
    {
     "data": {
      "text/plain": [
       "(array([ 9,  7, -4,  9]),\n",
       " array([ 3, -3, -2,  1]),\n",
       " array([ 36,  12, -18,  30]),\n",
       " 51,\n",
       " 8.602325267042627)"
      ]
     },
     "execution_count": 5,
     "metadata": {},
     "output_type": "execute_result"
    }
   ],
   "source": [
    "u_plus_v, u_minus_v, alpha_times_u, u_dot_v, norm_u"
   ]
  },
  {
   "cell_type": "code",
   "execution_count": 6,
   "metadata": {},
   "outputs": [],
   "source": [
    "\n",
    "# Q3: compute the following and assign to variables below:\n",
    "#     assign `None` if the operation is not defined\n",
    "#     do not type the answers, make python do the work\n",
    "\n",
    "A_plus_C = None            # A + C\n",
    "A_minus_Ctranspose = A-np.transpose(C)    # A - C.T\n",
    "Ctranspose_plus_3D = np.transpose(C)+3*D   # C.T + 3*D\n",
    "B_times_A = np.matmul(B,A)            # B*A\n",
    "B_times_Atranspose = None   # B*A.T"
   ]
  },
  {
   "cell_type": "code",
   "execution_count": 7,
   "metadata": {},
   "outputs": [
    {
     "data": {
      "text/plain": [
       "(array([[-4, -7, -3],\n",
       "        [ 3,  6,  4]]), array([[14,  3,  3],\n",
       "        [ 2,  7,  9]]), array([[-1, -5, -1],\n",
       "        [ 2,  7,  4]]))"
      ]
     },
     "execution_count": 7,
     "metadata": {},
     "output_type": "execute_result"
    }
   ],
   "source": [
    "A_minus_Ctranspose,Ctranspose_plus_3D, B_times_A"
   ]
  },
  {
   "cell_type": "code",
   "execution_count": 8,
   "metadata": {},
   "outputs": [],
   "source": [
    "# Q4: (bonus)\n",
    "\n",
    "B_times_C = None          # B*C\n",
    "C_times_B = np.matmul(C,B)            # C*B\n",
    "B_exp_4 = B^4              # B^4\n",
    "A_times_Atranspose = np.matmul(A,np.transpose(A))  # A*A.T\n",
    "Dtranspose_times_D = np.matmul(np.transpose(D),D)   # D.T*D"
   ]
  },
  {
   "cell_type": "code",
   "execution_count": 9,
   "metadata": {},
   "outputs": [
    {
     "data": {
      "text/plain": [
       "(None, array([[ 5, -6],\n",
       "        [ 9, -8],\n",
       "        [ 6, -6]]), array([[ 5, -5],\n",
       "        [ 4,  5]]), array([[14, 28],\n",
       "        [28, 69]]), array([[10, -4,  0],\n",
       "        [-4,  8,  8],\n",
       "        [ 0,  8, 10]]))"
      ]
     },
     "execution_count": 9,
     "metadata": {},
     "output_type": "execute_result"
    }
   ],
   "source": [
    "B_times_C,C_times_B,B_exp_4,A_times_Atranspose,Dtranspose_times_D"
   ]
  }
 ],
 "metadata": {
  "kernelspec": {
   "display_name": "Python 3",
   "language": "python",
   "name": "python3"
  },
  "language_info": {
   "codemirror_mode": {
    "name": "ipython",
    "version": 3
   },
   "file_extension": ".py",
   "mimetype": "text/x-python",
   "name": "python",
   "nbconvert_exporter": "python",
   "pygments_lexer": "ipython3",
   "version": "3.7.1"
  }
 },
 "nbformat": 4,
 "nbformat_minor": 2
}
