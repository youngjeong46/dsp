{
 "cells": [
  {
   "cell_type": "code",
   "execution_count": 1,
   "metadata": {},
   "outputs": [],
   "source": [
    "import sys\n",
    "\n",
    "def anagram_checker(a,b):\n",
    "    \"\"\"\n",
    "    Checks if two words are anagrams of each other.\n",
    "    \"\"\"\n",
    "    return ''.join(sorted(a))==''.join(sorted(b))"
   ]
  },
  {
   "cell_type": "code",
   "execution_count": 2,
   "metadata": {},
   "outputs": [
    {
     "data": {
      "text/plain": [
       "'You passed all tests!'"
      ]
     },
     "execution_count": 2,
     "metadata": {},
     "output_type": "execute_result"
    }
   ],
   "source": [
    "# DON'T CHANGE THIS CELL! IT'S JUST HERE TO TEST YOUR CODE\n",
    "\n",
    "def exercise_tester():\n",
    "    \"\"\"\n",
    "    This function will test your anagram_checker function\n",
    "    by putting in some values and making sure you get the\n",
    "    correct answer!\n",
    "    \n",
    "    If you've written your code well, you should see \n",
    "    \"you passed all tests!\" as your output of this cell.\n",
    "    \"\"\"\n",
    "    \n",
    "    assert anagram_checker('cat','tac') == True, \"Failed on First Test!\"\n",
    "    assert anagram_checker('taCo','taco') == False, \"Failed on Second Test!\"\n",
    "    assert anagram_checker('realm','realm ') == False, \"Failed on Third Test!\"\n",
    "    assert anagram_checker('rail safety','fairy tales') == True, \"Failed on Fourth Test!\"\n",
    "    assert anagram_checker('steve','bob') == False, \"Failed on Fifth Test!\"\n",
    "    return \"You passed all tests!\"\n",
    "\n",
    "exercise_tester()"
   ]
  },
  {
   "cell_type": "code",
   "execution_count": 3,
   "metadata": {},
   "outputs": [
    {
     "data": {
      "text/plain": [
       "'\\n    Checks if two words are anagrams of each other.\\n    '"
      ]
     },
     "execution_count": 3,
     "metadata": {},
     "output_type": "execute_result"
    }
   ],
   "source": [
    "anagram_checker.__doc__"
   ]
  },
  {
   "cell_type": "code",
   "execution_count": 20,
   "metadata": {},
   "outputs": [],
   "source": [
    "def integer_convert(a):\n",
    "    \"\"\"\n",
    "    This function returns the integer version of the value is if possible, \n",
    "    and the string, \"NOT A NUMBER\" if it's not possible.\n",
    "    \"\"\"\n",
    "    try:\n",
    "        int(a)\n",
    "    \n",
    "    except:\n",
    "        print(\"NOT A NUMBER\")\n",
    "        raise\n",
    "    return int(a)"
   ]
  },
  {
   "cell_type": "code",
   "execution_count": 21,
   "metadata": {},
   "outputs": [
    {
     "data": {
      "text/plain": [
       "4"
      ]
     },
     "execution_count": 21,
     "metadata": {},
     "output_type": "execute_result"
    }
   ],
   "source": [
    "integer_convert('4')"
   ]
  },
  {
   "cell_type": "code",
   "execution_count": 22,
   "metadata": {},
   "outputs": [
    {
     "name": "stdout",
     "output_type": "stream",
     "text": [
      "NOT A NUMBER\n"
     ]
    },
    {
     "ename": "ValueError",
     "evalue": "invalid literal for int() with base 10: ''",
     "output_type": "error",
     "traceback": [
      "\u001b[0;31m---------------------------------------------------------------------------\u001b[0m",
      "\u001b[0;31mValueError\u001b[0m                                Traceback (most recent call last)",
      "\u001b[0;32m<ipython-input-22-e18b8cbab435>\u001b[0m in \u001b[0;36m<module>\u001b[0;34m\u001b[0m\n\u001b[0;32m----> 1\u001b[0;31m \u001b[0minteger_convert\u001b[0m\u001b[0;34m(\u001b[0m\u001b[0;34m''\u001b[0m\u001b[0;34m)\u001b[0m\u001b[0;34m\u001b[0m\u001b[0;34m\u001b[0m\u001b[0m\n\u001b[0m",
      "\u001b[0;32m<ipython-input-20-f07cda3ecd67>\u001b[0m in \u001b[0;36minteger_convert\u001b[0;34m(a)\u001b[0m\n\u001b[1;32m      5\u001b[0m     \"\"\"\n\u001b[1;32m      6\u001b[0m     \u001b[0;32mtry\u001b[0m\u001b[0;34m:\u001b[0m\u001b[0;34m\u001b[0m\u001b[0;34m\u001b[0m\u001b[0m\n\u001b[0;32m----> 7\u001b[0;31m         \u001b[0mint\u001b[0m\u001b[0;34m(\u001b[0m\u001b[0ma\u001b[0m\u001b[0;34m)\u001b[0m\u001b[0;34m\u001b[0m\u001b[0;34m\u001b[0m\u001b[0m\n\u001b[0m\u001b[1;32m      8\u001b[0m \u001b[0;34m\u001b[0m\u001b[0m\n\u001b[1;32m      9\u001b[0m     \u001b[0;32mexcept\u001b[0m\u001b[0;34m:\u001b[0m\u001b[0;34m\u001b[0m\u001b[0;34m\u001b[0m\u001b[0m\n",
      "\u001b[0;31mValueError\u001b[0m: invalid literal for int() with base 10: ''"
     ]
    }
   ],
   "source": [
    "integer_convert('')"
   ]
  },
  {
   "cell_type": "code",
   "execution_count": 25,
   "metadata": {},
   "outputs": [],
   "source": [
    "import csv\n",
    "def count_titles(csv_file_name):\n",
    "    with open(csv_file_name) as csvfile:\n",
    "        readCSV = csv.reader(csvfile,delimiter=',')\n",
    "        next(readCSV,None)\n",
    "        title_count={}\n",
    "        for row in readCSV:\n",
    "            title=row[2][:9]\n",
    "            if title in title_count:\n",
    "                title_count[title]+=1\n",
    "            else:\n",
    "                title_count[title]=1\n",
    "    return title_count"
   ]
  },
  {
   "cell_type": "code",
   "execution_count": 26,
   "metadata": {},
   "outputs": [
    {
     "data": {
      "text/plain": [
       "{'Associate': 12, 'Professor': 13, 'Assistant': 12}"
      ]
     },
     "execution_count": 26,
     "metadata": {},
     "output_type": "execute_result"
    }
   ],
   "source": [
    "count_titles('faculty.csv')"
   ]
  },
  {
   "cell_type": "code",
   "execution_count": 54,
   "metadata": {},
   "outputs": [],
   "source": [
    "def write_to_csv(list_of_emails):\n",
    "    with open('emails.csv','w',newline='') as csvfile:\n",
    "        writer = csv.writer(csvfile,dialect='excel')\n",
    "        #writer.writerow('List of Emails')\n",
    "        writer.writerows(list_of_emails)\n",
    "\n",
    "        "
   ]
  },
  {
   "cell_type": "code",
   "execution_count": 55,
   "metadata": {},
   "outputs": [],
   "source": [
    "write_to_csv([['awklfjlawekjf','awefawef','awfawefaw','awfawef','23tg23g']])"
   ]
  },
  {
   "cell_type": "code",
   "execution_count": null,
   "metadata": {},
   "outputs": [],
   "source": []
  }
 ],
 "metadata": {
  "kernelspec": {
   "display_name": "Python 3",
   "language": "python",
   "name": "python3"
  },
  "language_info": {
   "codemirror_mode": {
    "name": "ipython",
    "version": 3
   },
   "file_extension": ".py",
   "mimetype": "text/x-python",
   "name": "python",
   "nbconvert_exporter": "python",
   "pygments_lexer": "ipython3",
   "version": "3.7.1"
  }
 },
 "nbformat": 4,
 "nbformat_minor": 2
}
